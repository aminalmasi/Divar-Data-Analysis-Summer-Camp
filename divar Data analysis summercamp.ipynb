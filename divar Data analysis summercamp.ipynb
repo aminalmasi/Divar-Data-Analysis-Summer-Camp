{
 "cells": [
  {
   "cell_type": "code",
   "execution_count": null,
   "metadata": {},
   "outputs": [],
   "source": [
    "from date_extractor import extract_date\n",
    "from datetime import date\n",
    "from datetime import datetime\n",
    "\n",
    "import numpy as np\n",
    "import pandas as pd\n",
    "import itertools\n",
    "\n",
    "import plotly.express as px\n",
    "import matplotlib.pyplot as plt\n",
    "import seaborn as sns"
   ]
  },
  {
   "cell_type": "code",
   "execution_count": null,
   "metadata": {},
   "outputs": [],
   "source": [
    "df = pd.read_excel('/home/amindo/Desktop/Summer Camp Task Data.xlsx')"
   ]
  },
  {
   "cell_type": "code",
   "execution_count": null,
   "metadata": {},
   "outputs": [],
   "source": [
    "df.info()"
   ]
  },
  {
   "cell_type": "markdown",
   "metadata": {},
   "source": [
    "# خطاهای جزئی"
   ]
  },
  {
   "cell_type": "markdown",
   "metadata": {},
   "source": [
    "## خطای جزئی ۱"
   ]
  },
  {
   "cell_type": "code",
   "execution_count": 6,
   "metadata": {},
   "outputs": [
    {
     "data": {
      "text/plain": [
       "both     0.413053\n",
       "click    0.343802\n",
       "load     0.243145\n",
       "Name: percent, dtype: float64"
      ]
     },
     "execution_count": 6,
     "metadata": {},
     "output_type": "execute_result"
    }
   ],
   "source": [
    "df_temp = df.groupby('source_event_id').apply(lambda x:'both' if x.action.nunique()==2 else ('click' if 'click_post' in  x.action.unique() else 'load')).reset_index()\n",
    "df_temp.rename(columns = {0:'percent'},inplace = True)\n",
    "all_percent =df_temp['percent'].value_counts(normalize =True)\n",
    "all_percent"
   ]
  },
  {
   "cell_type": "code",
   "execution_count": 7,
   "metadata": {},
   "outputs": [
    {
     "data": {
      "image/png": "[encoded data removed]",
      "text/plain": [
       "<Figure size 432x288 with 1 Axes>"
      ]
     },
     "metadata": {
      "needs_background": "light"
     },
     "output_type": "display_data"
    }
   ],
   "source": [
    "ax = sns.barplot(x=['both','just click','just load'], y=all_percent)\n"
   ]
  },
  {
   "cell_type": "markdown",
   "metadata": {},
   "source": [
    "## خطای جزئی ۲"
   ]
  },
  {
   "cell_type": "code",
   "execution_count": 8,
   "metadata": {},
   "outputs": [
    {
     "data": {
      "text/plain": [
       "632"
      ]
     },
     "execution_count": 8,
     "metadata": {},
     "output_type": "execute_result"
    }
   ],
   "source": [
    "df_temp =df.loc[df['action']=='load_post_page']\n",
    "df_temp = df_temp.groupby('source_event_id').post_page_offset.agg(n_unique = ('nunique'),maxx =('max')).reset_index()\n",
    "df_temp.loc[(df_temp.n_unique - df_temp.maxx) != 1].shape[0]"
   ]
  },
  {
   "cell_type": "markdown",
   "metadata": {},
   "source": [
    "## خطای جزئی ۳"
   ]
  },
  {
   "cell_type": "code",
   "execution_count": 9,
   "metadata": {},
   "outputs": [
    {
     "name": "stdout",
     "output_type": "stream",
     "text": [
      "67\n"
     ]
    }
   ],
   "source": [
    "print(df.loc[df.duplicated()].shape[0])\n",
    "df.drop_duplicates(inplace = True)"
   ]
  },
  {
   "cell_type": "markdown",
   "metadata": {},
   "source": [
    "### حذف کوئری های با بیش از یک سرچ"
   ]
  },
  {
   "cell_type": "code",
   "execution_count": 10,
   "metadata": {},
   "outputs": [],
   "source": [
    "df_temp = df.sort_values('created_at')\n",
    "df_temp = df_temp.loc[df_temp.action == 'load_post_page']\n",
    "df_temp =df_temp.groupby('source_event_id')['post_page_offset'].apply(lambda x:((np.diff(x) <= 0.0 ).sum())).reset_index()\n",
    "list1 = list(df_temp.loc[df_temp.post_page_offset != 0].source_event_id)\n",
    "df = df.loc[ ~df.source_event_id.isin(list1)]"
   ]
  },
  {
   "cell_type": "code",
   "execution_count": 14,
   "metadata": {},
   "outputs": [
    {
     "data": {
      "text/plain": [
       "14077"
      ]
     },
     "execution_count": 14,
     "metadata": {},
     "output_type": "execute_result"
    }
   ],
   "source": [
    "df.source_event_id.nunique()"
   ]
  },
  {
   "cell_type": "markdown",
   "metadata": {},
   "source": [
    "## خطای جزئی ۴"
   ]
  },
  {
   "cell_type": "code",
   "execution_count": 16,
   "metadata": {},
   "outputs": [
    {
     "data": {
      "text/plain": [
       "0    10643\n",
       "1        9\n",
       "Name: created_at, dtype: int64"
      ]
     },
     "execution_count": 16,
     "metadata": {},
     "output_type": "execute_result"
    }
   ],
   "source": [
    "df_temp = df.sort_values('created_at')\n",
    "df_temp = df_temp.loc[df_temp.action == 'click_post']\n",
    "df_temp = df_temp.groupby('source_event_id')['created_at'].apply(lambda x:(np.absolute(np.diff(x)) < 200).sum() ).reset_index()\n",
    "df_temp.created_at.value_counts()"
   ]
  },
  {
   "cell_type": "markdown",
   "metadata": {},
   "source": [
    "## خطای جزئی ۵"
   ]
  },
  {
   "cell_type": "code",
   "execution_count": 17,
   "metadata": {},
   "outputs": [
    {
     "data": {
      "text/plain": [
       "221"
      ]
     },
     "execution_count": 17,
     "metadata": {},
     "output_type": "execute_result"
    }
   ],
   "source": [
    "df_temp = df.groupby('source_event_id')['device_id'].apply(lambda x:x.isnull().sum()).reset_index()\n",
    "df_temp.loc[df_temp['device_id'] >0].shape[0]\n"
   ]
  },
  {
   "cell_type": "markdown",
   "metadata": {},
   "source": [
    "###  یک فعالیت وجود دارد که پست ایندکس دارد ولی توکنش ذخیره نشده است"
   ]
  },
  {
   "cell_type": "code",
   "execution_count": 18,
   "metadata": {},
   "outputs": [],
   "source": [
    "in1 = df.loc[(df['post_index_in_post_list'].notnull()) & (df['post_token'].isnull())].index[0]\n",
    "df.drop(in1,inplace = True)"
   ]
  },
  {
   "cell_type": "markdown",
   "metadata": {},
   "source": [
    "### برای راحتی کار یک ستون برای تعداد توکن ها اضافه میکنیم"
   ]
  },
  {
   "cell_type": "code",
   "execution_count": 19,
   "metadata": {},
   "outputs": [],
   "source": [
    "df['n_tokens'] = df.tokens.str.count(',') + 1"
   ]
  },
  {
   "cell_type": "markdown",
   "metadata": {},
   "source": [
    "# سوال ۲"
   ]
  },
  {
   "cell_type": "markdown",
   "metadata": {},
   "source": [
    "### dark query percent"
   ]
  },
  {
   "cell_type": "code",
   "execution_count": 20,
   "metadata": {},
   "outputs": [],
   "source": [
    "def p_return(df1,threshhold=10):\n",
    "    df_temp = df1[df1.groupby('source_event_id')['post_index_in_post_list'].transform('max') <threshhold]\n",
    "    df_temp = df_temp.groupby('source_event_id').apply(lambda x:( x.n_tokens.max() >=threshhold or x.post_page_offset.max() >0 )).reset_index()    \n",
    "    t = df_temp[0].value_counts(normalize = True)[False]\n",
    "    return t"
   ]
  },
  {
   "cell_type": "code",
   "execution_count": 62,
   "metadata": {},
   "outputs": [],
   "source": [
    "def dark_query_percent(df,threshhold,mode):\n",
    "    if threshhold < 24 : \n",
    "        n = df.source_event_id.nunique()\n",
    "        \n",
    "        df_temp = df[df.groupby('source_event_id')['post_page_offset'].transform('count') ==0]\n",
    "        a30 = df_temp[df_temp.groupby('source_event_id')['post_index_in_post_list'].transform('max') <threshhold].source_event_id.nunique()       \n",
    "        print(a30)\n",
    "        df_temp = df[df.groupby('source_event_id')['post_index_in_post_list'].transform('count') ==0]\n",
    "        a20 = df_temp.groupby('source_event_id').apply(lambda x:(x.n_tokens.max() >= threshhold) or (x.post_page_offset.max() >0) ).value_counts().loc[False]\n",
    "        print(a20)\n",
    "        df1 = df[df.groupby('source_event_id').action.transform('nunique') ==2]\n",
    "        print(df1.source_event_id.nunique())\n",
    "        a10 = df1.groupby('source_event_id').apply(lambda x:(x.n_tokens.max() >= threshhold) or (x.post_page_offset.max() >0)).value_counts().loc[False]\n",
    "        print(a10)\n",
    "        if mode == 'with estimation':\n",
    "            t = p_return(df1,threshhold)\n",
    "            return (a10 + a20 + t*a30)/(n)\n",
    "        elif mode =='no estimation':\n",
    "            return (a10 + a20)/(n - a30)\n",
    "        else:\n",
    "            print('This information is not enough for proper resault')"
   ]
  },
  {
   "cell_type": "markdown",
   "metadata": {},
   "source": [
    "###  های مختلف بدون تخمینthresholdنمودار برای "
   ]
  },
  {
   "cell_type": "code",
   "execution_count": 22,
   "metadata": {},
   "outputs": [
    {
     "data": {
      "image/png": "[encoded data removed]",
      "text/plain": [
       "<Figure size 432x288 with 1 Axes>"
      ]
     },
     "metadata": {
      "needs_background": "light"
     },
     "output_type": "display_data"
    }
   ],
   "source": [
    "lst1 = []\n",
    "lst2 = list(range(2,24))\n",
    "for i in range(2,24):\n",
    "    lst1.append(dark_query_percent(df,i,'no estimation'))\n",
    "df_temp = pd.DataFrame(list(zip(lst1, lst2)),\n",
    "               columns =['percent', 'threshold'])\n",
    "ax = sns.barplot(x='threshold',y='percent',data = df_temp)"
   ]
  },
  {
   "cell_type": "markdown",
   "metadata": {},
   "source": [
    "###  های مختلف با تخمینthresholdنمودار برای  "
   ]
  },
  {
   "cell_type": "code",
   "execution_count": 23,
   "metadata": {},
   "outputs": [
    {
     "data": {
      "image/png": "[encoded data removed]",
      "text/plain": [
       "<Figure size 432x288 with 1 Axes>"
      ]
     },
     "metadata": {
      "needs_background": "light"
     },
     "output_type": "display_data"
    }
   ],
   "source": [
    "lst1 = []\n",
    "lst2 = list(range(2,24))\n",
    "for i in range(2,24):\n",
    "    lst1.append(dark_query_percent(df,i,'with estimation'))\n",
    "df_temp = pd.DataFrame(list(zip(lst1, lst2)),\n",
    "               columns =['percent', 'threshold'])\n",
    "ax = sns.barplot(x='threshold',y='percent',data = df_temp)"
   ]
  },
  {
   "cell_type": "markdown",
   "metadata": {},
   "source": [
    "### query bounce rate"
   ]
  },
  {
   "cell_type": "code",
   "execution_count": 24,
   "metadata": {},
   "outputs": [],
   "source": [
    " def query_bounce_rate(df):\n",
    "    n_unique = df['source_event_id'].nunique()\n",
    "    n_ziro_click =df.loc[df['action'] == 'click_post'].source_event_id.nunique()\n",
    "    return \" {:.0%}  \". format(1 - (n_ziro_click/n_unique))"
   ]
  },
  {
   "cell_type": "code",
   "execution_count": 25,
   "metadata": {},
   "outputs": [
    {
     "data": {
      "text/plain": [
       "' 24%  '"
      ]
     },
     "execution_count": 25,
     "metadata": {},
     "output_type": "execute_result"
    }
   ],
   "source": [
    "query_bounce_rate(df)"
   ]
  },
  {
   "cell_type": "markdown",
   "metadata": {},
   "source": [
    "# سوال ۳"
   ]
  },
  {
   "cell_type": "code",
   "execution_count": 26,
   "metadata": {},
   "outputs": [],
   "source": [
    "def met1(df):\n",
    "    df_temp = df.loc[df.groupby('source_event_id')['post_page_offset'].transform('count') > 0] .reset_index()\n",
    "    df_temp = df_temp.groupby('source_event_id').agg({'post_index_in_post_list':'nunique','post_page_offset':'max','n_tokens':'min'}).reset_index()\n",
    "    df_temp['met1'] = (df_temp['post_index_in_post_list']) / (24*df_temp['post_page_offset'] + df_temp['n_tokens'] )\n",
    "    df_temp.drop(['post_index_in_post_list','post_page_offset','n_tokens'],inplace = True,axis = 1)\n",
    "    return(df_temp)    "
   ]
  },
  {
   "cell_type": "code",
   "execution_count": 28,
   "metadata": {},
   "outputs": [
    {
     "data": {
      "text/plain": [
       "0.08379808937524362"
      ]
     },
     "execution_count": 28,
     "metadata": {},
     "output_type": "execute_result"
    }
   ],
   "source": [
    "df_temp = met1(df)\n",
    "meann = np.mean(df_temp.met1)\n",
    "meann"
   ]
  },
  {
   "cell_type": "code",
   "execution_count": null,
   "metadata": {},
   "outputs": [],
   "source": [
    "def met2(df):\n",
    "    df_temp = df.sort_values('created_at',ascending = True)\n",
    "    df_temp = df_temp.loc[df['action'] == 'click_post']\n",
    "    df_temp = df_temp.groupby(['source_event_id'])['post_index_in_post_list'].first().reset_index()\n",
    "    df_temp.rename(columns = {'post_index_in_post_list' : 'met2'},inplace = True) \n",
    "    return df_temp"
   ]
  },
  {
   "cell_type": "code",
   "execution_count": null,
   "metadata": {},
   "outputs": [],
   "source": [
    "def met3(df):\n",
    "    df_temp = df.groupby('source_event_id')['post_index_in_post_list'].agg(['max','nunique']).reset_index()\n",
    "    df_temp['met3'] = (df_temp['max'])/df_temp['nunique']\n",
    "    df_temp.drop(['max','nunique'],inplace = True,axis = 1)\n",
    "    return df_temp"
   ]
  },
  {
   "cell_type": "code",
   "execution_count": 47,
   "metadata": {},
   "outputs": [],
   "source": [
    "def met4(df,threshhold=3):\n",
    "    df_temp =df.groupby('source_event_id')['post_index_in_post_list'].min().reset_index()\n",
    "    df_temp['met4'] = 0*df_temp.shape[0]\n",
    "    df_temp['met4'].loc[df_temp['post_index_in_post_list'] <=threshhold] = 1\n",
    "    df_temp.drop('post_index_in_post_list',inplace = True,axis =1) \n",
    "    return df_temp"
   ]
  },
  {
   "cell_type": "code",
   "execution_count": null,
   "metadata": {},
   "outputs": [],
   "source": [
    "def metric_data(df):\n",
    "    df_all_metrics = pd.merge(met1(df),met2(df),on = 'source_event_id',how = 'outer')\n",
    "    df_all_metrics = pd.merge(df_all_metrics,met3(df),on = 'source_event_id',how = 'outer')\n",
    "    df_all_metrics = pd.merge(df_all_metrics,met4(df),on = 'source_event_id',how = 'outer')\n",
    "    return df_all_metrics\n"
   ]
  },
  {
   "cell_type": "code",
   "execution_count": null,
   "metadata": {},
   "outputs": [],
   "source": [
    "df_all_metrics = metric_data(df)"
   ]
  }
 ],
 "metadata": {
  "kernelspec": {
   "display_name": "Python 3 (ipykernel)",
   "language": "python",
   "name": "python3"
  },
  "language_info": {
   "codemirror_mode": {
    "name": "ipython",
    "version": 3
   },
   "file_extension": ".py",
   "mimetype": "text/x-python",
   "name": "python",
   "nbconvert_exporter": "python",
   "pygments_lexer": "ipython3",
   "version": "3.8.10"
  }
 },
 "nbformat": 4,
 "nbformat_minor": 4
}
